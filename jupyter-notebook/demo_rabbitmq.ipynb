{
 "cells": [
  {
   "cell_type": "code",
   "execution_count": null,
   "metadata": {},
   "outputs": [],
   "source": [
    "# install mendatory packages\n",
    "!pip install pika\n",
    "!pip install redis"
   ]
  },
  {
   "cell_type": "code",
   "execution_count": 2,
   "metadata": {},
   "outputs": [],
   "source": [
    "import pika\n",
    "import redis"
   ]
  },
  {
   "cell_type": "markdown",
   "metadata": {},
   "source": [
    "### Play with Redis"
   ]
  },
  {
   "cell_type": "code",
   "execution_count": 8,
   "metadata": {},
   "outputs": [],
   "source": [
    "redis_cnx = redis.Redis( host='redis', port=6379, db=0 )"
   ]
  },
  {
   "cell_type": "code",
   "execution_count": 9,
   "metadata": {},
   "outputs": [
    {
     "name": "stdout",
     "output_type": "stream",
     "text": [
      "b'hello world'\n"
     ]
    }
   ],
   "source": [
    "redis_key1 = 'demo:key1'\n",
    "value = 'hello world'\n",
    "redis_cnx.set( redis_key1, value, ex=6000 )\n",
    "value_from_cache = redis_cnx.get(redis_key1)\n",
    "print(value_from_cache)"
   ]
  },
  {
   "cell_type": "markdown",
   "metadata": {},
   "source": [
    "### Play with RabbitMQ"
   ]
  },
  {
   "cell_type": "code",
   "execution_count": 11,
   "metadata": {},
   "outputs": [],
   "source": [
    "# Send a message to rabbitmq\n",
    "\n",
    "def rabbitmq_connect(host, port, username, password):\n",
    "    credentials = pika.PlainCredentials(username, password)\n",
    "    connection = pika.BlockingConnection(pika.ConnectionParameters(host, port, credentials=credentials))\n",
    "    channel = connection.channel()\n",
    "    return connection, channel\n",
    "\n",
    "rabbitmq_cnx, rabbitmq_channel = rabbitmq_connect('rabbitmq', 5672, 'guest', 'guest')"
   ]
  },
  {
   "cell_type": "code",
   "execution_count": 7,
   "metadata": {},
   "outputs": [
    {
     "data": {
      "text/plain": [
       "True"
      ]
     },
     "execution_count": 7,
     "metadata": {},
     "output_type": "execute_result"
    }
   ],
   "source": [
    "rabbitmq_channel.basic_publish(exchange='exchange1', routing_key='hello_topic', body='hello world from jupyter')"
   ]
  },
  {
   "cell_type": "code",
   "execution_count": null,
   "metadata": {},
   "outputs": [],
   "source": [
    "# send a single message\n",
    "rabbitmq_channel.basic_publish(exchange='exchange1', routing_key='hello_topic', body='hello world from jupyter')"
   ]
  },
  {
   "cell_type": "code",
   "execution_count": null,
   "metadata": {},
   "outputs": [],
   "source": [
    "# send 100K messages\n",
    "for i in range(100000):\n",
    "    rabbitmq_channel.basic_publish(exchange='exchange1', routing_key='hello_topic', body='hello world from jupyter {}'.format(i))"
   ]
  },
  {
   "cell_type": "code",
   "execution_count": null,
   "metadata": {},
   "outputs": [],
   "source": [
    "rabbitmq_cnx.close()"
   ]
  }
 ],
 "metadata": {
  "kernelspec": {
   "display_name": "Python 3",
   "language": "python",
   "name": "python3"
  },
  "language_info": {
   "codemirror_mode": {
    "name": "ipython",
    "version": 3
   },
   "file_extension": ".py",
   "mimetype": "text/x-python",
   "name": "python",
   "nbconvert_exporter": "python",
   "pygments_lexer": "ipython3",
   "version": "3.6.6"
  }
 },
 "nbformat": 4,
 "nbformat_minor": 2
}
